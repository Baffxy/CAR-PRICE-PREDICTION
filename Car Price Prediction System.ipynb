{
 "cells": [
  {
   "cell_type": "markdown",
   "id": "99b9bdf2",
   "metadata": {},
   "source": [
    "# Project Name - Car Price Prediction System"
   ]
  },
  {
   "cell_type": "markdown",
   "id": "70ed2073",
   "metadata": {},
   "source": [
    "## Objective :-\n"
   ]
  },
  {
   "cell_type": "markdown",
   "id": "f99ae1e6",
   "metadata": {},
   "source": [
    "# AUTHOR :- ABDDULLAHI LABARAN"
   ]
  },
  {
   "cell_type": "code",
   "execution_count": 1,
   "id": "01afe444",
   "metadata": {},
   "outputs": [],
   "source": [
    "#importing necessary libraries\n",
    "import numpy as np\n",
    "import pandas as pd\n",
    "import matplotlib.pyplot as plt\n",
    "import seaborn as sns\n",
    "from sklearn.model_selection import train_test_split\n",
    "from sklearn.tree import DecisionTreeRegressor"
   ]
  },
  {
   "cell_type": "code",
   "execution_count": 2,
   "id": "05464f16",
   "metadata": {},
   "outputs": [
    {
     "data": {
      "text/html": [
       "<div>\n",
       "<style scoped>\n",
       "    .dataframe tbody tr th:only-of-type {\n",
       "        vertical-align: middle;\n",
       "    }\n",
       "\n",
       "    .dataframe tbody tr th {\n",
       "        vertical-align: top;\n",
       "    }\n",
       "\n",
       "    .dataframe thead th {\n",
       "        text-align: right;\n",
       "    }\n",
       "</style>\n",
       "<table border=\"1\" class=\"dataframe\">\n",
       "  <thead>\n",
       "    <tr style=\"text-align: right;\">\n",
       "      <th></th>\n",
       "      <th>car_ID</th>\n",
       "      <th>symboling</th>\n",
       "      <th>CarName</th>\n",
       "      <th>fueltype</th>\n",
       "      <th>aspiration</th>\n",
       "      <th>doornumber</th>\n",
       "      <th>carbody</th>\n",
       "      <th>drivewheel</th>\n",
       "      <th>enginelocation</th>\n",
       "      <th>wheelbase</th>\n",
       "      <th>...</th>\n",
       "      <th>enginesize</th>\n",
       "      <th>fuelsystem</th>\n",
       "      <th>boreratio</th>\n",
       "      <th>stroke</th>\n",
       "      <th>compressionratio</th>\n",
       "      <th>horsepower</th>\n",
       "      <th>peakrpm</th>\n",
       "      <th>citympg</th>\n",
       "      <th>highwaympg</th>\n",
       "      <th>price</th>\n",
       "    </tr>\n",
       "  </thead>\n",
       "  <tbody>\n",
       "    <tr>\n",
       "      <th>0</th>\n",
       "      <td>1</td>\n",
       "      <td>3</td>\n",
       "      <td>alfa-romero giulia</td>\n",
       "      <td>gas</td>\n",
       "      <td>std</td>\n",
       "      <td>two</td>\n",
       "      <td>convertible</td>\n",
       "      <td>rwd</td>\n",
       "      <td>front</td>\n",
       "      <td>88.6</td>\n",
       "      <td>...</td>\n",
       "      <td>130</td>\n",
       "      <td>mpfi</td>\n",
       "      <td>3.47</td>\n",
       "      <td>2.68</td>\n",
       "      <td>9.0</td>\n",
       "      <td>111</td>\n",
       "      <td>5000</td>\n",
       "      <td>21</td>\n",
       "      <td>27</td>\n",
       "      <td>13495.0</td>\n",
       "    </tr>\n",
       "    <tr>\n",
       "      <th>1</th>\n",
       "      <td>2</td>\n",
       "      <td>3</td>\n",
       "      <td>alfa-romero stelvio</td>\n",
       "      <td>gas</td>\n",
       "      <td>std</td>\n",
       "      <td>two</td>\n",
       "      <td>convertible</td>\n",
       "      <td>rwd</td>\n",
       "      <td>front</td>\n",
       "      <td>88.6</td>\n",
       "      <td>...</td>\n",
       "      <td>130</td>\n",
       "      <td>mpfi</td>\n",
       "      <td>3.47</td>\n",
       "      <td>2.68</td>\n",
       "      <td>9.0</td>\n",
       "      <td>111</td>\n",
       "      <td>5000</td>\n",
       "      <td>21</td>\n",
       "      <td>27</td>\n",
       "      <td>16500.0</td>\n",
       "    </tr>\n",
       "    <tr>\n",
       "      <th>2</th>\n",
       "      <td>3</td>\n",
       "      <td>1</td>\n",
       "      <td>alfa-romero Quadrifoglio</td>\n",
       "      <td>gas</td>\n",
       "      <td>std</td>\n",
       "      <td>two</td>\n",
       "      <td>hatchback</td>\n",
       "      <td>rwd</td>\n",
       "      <td>front</td>\n",
       "      <td>94.5</td>\n",
       "      <td>...</td>\n",
       "      <td>152</td>\n",
       "      <td>mpfi</td>\n",
       "      <td>2.68</td>\n",
       "      <td>3.47</td>\n",
       "      <td>9.0</td>\n",
       "      <td>154</td>\n",
       "      <td>5000</td>\n",
       "      <td>19</td>\n",
       "      <td>26</td>\n",
       "      <td>16500.0</td>\n",
       "    </tr>\n",
       "    <tr>\n",
       "      <th>3</th>\n",
       "      <td>4</td>\n",
       "      <td>2</td>\n",
       "      <td>audi 100 ls</td>\n",
       "      <td>gas</td>\n",
       "      <td>std</td>\n",
       "      <td>four</td>\n",
       "      <td>sedan</td>\n",
       "      <td>fwd</td>\n",
       "      <td>front</td>\n",
       "      <td>99.8</td>\n",
       "      <td>...</td>\n",
       "      <td>109</td>\n",
       "      <td>mpfi</td>\n",
       "      <td>3.19</td>\n",
       "      <td>3.40</td>\n",
       "      <td>10.0</td>\n",
       "      <td>102</td>\n",
       "      <td>5500</td>\n",
       "      <td>24</td>\n",
       "      <td>30</td>\n",
       "      <td>13950.0</td>\n",
       "    </tr>\n",
       "    <tr>\n",
       "      <th>4</th>\n",
       "      <td>5</td>\n",
       "      <td>2</td>\n",
       "      <td>audi 100ls</td>\n",
       "      <td>gas</td>\n",
       "      <td>std</td>\n",
       "      <td>four</td>\n",
       "      <td>sedan</td>\n",
       "      <td>4wd</td>\n",
       "      <td>front</td>\n",
       "      <td>99.4</td>\n",
       "      <td>...</td>\n",
       "      <td>136</td>\n",
       "      <td>mpfi</td>\n",
       "      <td>3.19</td>\n",
       "      <td>3.40</td>\n",
       "      <td>8.0</td>\n",
       "      <td>115</td>\n",
       "      <td>5500</td>\n",
       "      <td>18</td>\n",
       "      <td>22</td>\n",
       "      <td>17450.0</td>\n",
       "    </tr>\n",
       "  </tbody>\n",
       "</table>\n",
       "<p>5 rows × 26 columns</p>\n",
       "</div>"
      ],
      "text/plain": [
       "   car_ID  symboling                   CarName fueltype aspiration doornumber  \\\n",
       "0       1          3        alfa-romero giulia      gas        std        two   \n",
       "1       2          3       alfa-romero stelvio      gas        std        two   \n",
       "2       3          1  alfa-romero Quadrifoglio      gas        std        two   \n",
       "3       4          2               audi 100 ls      gas        std       four   \n",
       "4       5          2                audi 100ls      gas        std       four   \n",
       "\n",
       "       carbody drivewheel enginelocation  wheelbase  ...  enginesize  \\\n",
       "0  convertible        rwd          front       88.6  ...         130   \n",
       "1  convertible        rwd          front       88.6  ...         130   \n",
       "2    hatchback        rwd          front       94.5  ...         152   \n",
       "3        sedan        fwd          front       99.8  ...         109   \n",
       "4        sedan        4wd          front       99.4  ...         136   \n",
       "\n",
       "   fuelsystem  boreratio  stroke compressionratio horsepower  peakrpm citympg  \\\n",
       "0        mpfi       3.47    2.68              9.0        111     5000      21   \n",
       "1        mpfi       3.47    2.68              9.0        111     5000      21   \n",
       "2        mpfi       2.68    3.47              9.0        154     5000      19   \n",
       "3        mpfi       3.19    3.40             10.0        102     5500      24   \n",
       "4        mpfi       3.19    3.40              8.0        115     5500      18   \n",
       "\n",
       "   highwaympg    price  \n",
       "0          27  13495.0  \n",
       "1          27  16500.0  \n",
       "2          26  16500.0  \n",
       "3          30  13950.0  \n",
       "4          22  17450.0  \n",
       "\n",
       "[5 rows x 26 columns]"
      ]
     },
     "execution_count": 2,
     "metadata": {},
     "output_type": "execute_result"
    }
   ],
   "source": [
    "data = pd.read_csv('C:\\\\Users\\\\USER\\\\Downloads\\\\CarPrice.csv')\n",
    "data.head()"
   ]
  },
  {
   "cell_type": "markdown",
   "id": "e787104b",
   "metadata": {},
   "source": [
    "**Checking if the data contain Null**"
   ]
  },
  {
   "cell_type": "code",
   "execution_count": 3,
   "id": "1ad41a79",
   "metadata": {},
   "outputs": [
    {
     "data": {
      "text/plain": [
       "car_ID              0\n",
       "symboling           0\n",
       "CarName             0\n",
       "fueltype            0\n",
       "aspiration          0\n",
       "doornumber          0\n",
       "carbody             0\n",
       "drivewheel          0\n",
       "enginelocation      0\n",
       "wheelbase           0\n",
       "carlength           0\n",
       "carwidth            0\n",
       "carheight           0\n",
       "curbweight          0\n",
       "enginetype          0\n",
       "cylindernumber      0\n",
       "enginesize          0\n",
       "fuelsystem          0\n",
       "boreratio           0\n",
       "stroke              0\n",
       "compressionratio    0\n",
       "horsepower          0\n",
       "peakrpm             0\n",
       "citympg             0\n",
       "highwaympg          0\n",
       "price               0\n",
       "dtype: int64"
      ]
     },
     "execution_count": 3,
     "metadata": {},
     "output_type": "execute_result"
    }
   ],
   "source": [
    "data.isnull().sum()"
   ]
  },
  {
   "cell_type": "code",
   "execution_count": 4,
   "id": "10c8e066",
   "metadata": {},
   "outputs": [
    {
     "name": "stdout",
     "output_type": "stream",
     "text": [
      "<class 'pandas.core.frame.DataFrame'>\n",
      "RangeIndex: 205 entries, 0 to 204\n",
      "Data columns (total 26 columns):\n",
      " #   Column            Non-Null Count  Dtype  \n",
      "---  ------            --------------  -----  \n",
      " 0   car_ID            205 non-null    int64  \n",
      " 1   symboling         205 non-null    int64  \n",
      " 2   CarName           205 non-null    object \n",
      " 3   fueltype          205 non-null    object \n",
      " 4   aspiration        205 non-null    object \n",
      " 5   doornumber        205 non-null    object \n",
      " 6   carbody           205 non-null    object \n",
      " 7   drivewheel        205 non-null    object \n",
      " 8   enginelocation    205 non-null    object \n",
      " 9   wheelbase         205 non-null    float64\n",
      " 10  carlength         205 non-null    float64\n",
      " 11  carwidth          205 non-null    float64\n",
      " 12  carheight         205 non-null    float64\n",
      " 13  curbweight        205 non-null    int64  \n",
      " 14  enginetype        205 non-null    object \n",
      " 15  cylindernumber    205 non-null    object \n",
      " 16  enginesize        205 non-null    int64  \n",
      " 17  fuelsystem        205 non-null    object \n",
      " 18  boreratio         205 non-null    float64\n",
      " 19  stroke            205 non-null    float64\n",
      " 20  compressionratio  205 non-null    float64\n",
      " 21  horsepower        205 non-null    int64  \n",
      " 22  peakrpm           205 non-null    int64  \n",
      " 23  citympg           205 non-null    int64  \n",
      " 24  highwaympg        205 non-null    int64  \n",
      " 25  price             205 non-null    float64\n",
      "dtypes: float64(8), int64(8), object(10)\n",
      "memory usage: 41.8+ KB\n"
     ]
    }
   ],
   "source": [
    "data.info()"
   ]
  },
  {
   "cell_type": "markdown",
   "id": "244b72f8",
   "metadata": {},
   "source": [
    "**Analyzing the data**"
   ]
  },
  {
   "cell_type": "code",
   "execution_count": 5,
   "id": "8a085337",
   "metadata": {},
   "outputs": [
    {
     "name": "stdout",
     "output_type": "stream",
     "text": [
      "           car_ID   symboling   wheelbase   carlength    carwidth   carheight  \\\n",
      "count  205.000000  205.000000  205.000000  205.000000  205.000000  205.000000   \n",
      "mean   103.000000    0.834146   98.756585  174.049268   65.907805   53.724878   \n",
      "std     59.322565    1.245307    6.021776   12.337289    2.145204    2.443522   \n",
      "min      1.000000   -2.000000   86.600000  141.100000   60.300000   47.800000   \n",
      "25%     52.000000    0.000000   94.500000  166.300000   64.100000   52.000000   \n",
      "50%    103.000000    1.000000   97.000000  173.200000   65.500000   54.100000   \n",
      "75%    154.000000    2.000000  102.400000  183.100000   66.900000   55.500000   \n",
      "max    205.000000    3.000000  120.900000  208.100000   72.300000   59.800000   \n",
      "\n",
      "        curbweight  enginesize   boreratio      stroke  compressionratio  \\\n",
      "count   205.000000  205.000000  205.000000  205.000000        205.000000   \n",
      "mean   2555.565854  126.907317    3.329756    3.255415         10.142537   \n",
      "std     520.680204   41.642693    0.270844    0.313597          3.972040   \n",
      "min    1488.000000   61.000000    2.540000    2.070000          7.000000   \n",
      "25%    2145.000000   97.000000    3.150000    3.110000          8.600000   \n",
      "50%    2414.000000  120.000000    3.310000    3.290000          9.000000   \n",
      "75%    2935.000000  141.000000    3.580000    3.410000          9.400000   \n",
      "max    4066.000000  326.000000    3.940000    4.170000         23.000000   \n",
      "\n",
      "       horsepower      peakrpm     citympg  highwaympg         price  \n",
      "count  205.000000   205.000000  205.000000  205.000000    205.000000  \n",
      "mean   104.117073  5125.121951   25.219512   30.751220  13276.710571  \n",
      "std     39.544167   476.985643    6.542142    6.886443   7988.852332  \n",
      "min     48.000000  4150.000000   13.000000   16.000000   5118.000000  \n",
      "25%     70.000000  4800.000000   19.000000   25.000000   7788.000000  \n",
      "50%     95.000000  5200.000000   24.000000   30.000000  10295.000000  \n",
      "75%    116.000000  5500.000000   30.000000   34.000000  16503.000000  \n",
      "max    288.000000  6600.000000   49.000000   54.000000  45400.000000  \n"
     ]
    }
   ],
   "source": [
    "print(data.describe())"
   ]
  },
  {
   "cell_type": "markdown",
   "id": "6c57ec84",
   "metadata": {},
   "source": [
    "**Vvisualizing distribution of the values of the price column**"
   ]
  },
  {
   "cell_type": "code",
   "execution_count": 6,
   "id": "c3c04f25",
   "metadata": {
    "scrolled": true
   },
   "outputs": [
    {
     "data": {
      "text/plain": [
       "<Figure size 1440x720 with 0 Axes>"
      ]
     },
     "metadata": {},
     "output_type": "display_data"
    },
    {
     "data": {
      "image/png": "[encoded data removed]",
      "text/plain": [
       "<Figure size 360x360 with 1 Axes>"
      ]
     },
     "metadata": {},
     "output_type": "display_data"
    }
   ],
   "source": [
    "sns.set_style(\"whitegrid\")\n",
    "plt.figure(figsize=(20, 10))\n",
    "sns.displot(data.price)\n",
    "plt.show()"
   ]
  },
  {
   "cell_type": "code",
   "execution_count": 7,
   "id": "87e1a9fe",
   "metadata": {},
   "outputs": [
    {
     "name": "stdout",
     "output_type": "stream",
     "text": [
      "                    car_ID  symboling  wheelbase  carlength  carwidth  \\\n",
      "car_ID            1.000000  -0.151621   0.129729   0.170636  0.052387   \n",
      "symboling        -0.151621   1.000000  -0.531954  -0.357612 -0.232919   \n",
      "wheelbase         0.129729  -0.531954   1.000000   0.874587  0.795144   \n",
      "carlength         0.170636  -0.357612   0.874587   1.000000  0.841118   \n",
      "carwidth          0.052387  -0.232919   0.795144   0.841118  1.000000   \n",
      "carheight         0.255960  -0.541038   0.589435   0.491029  0.279210   \n",
      "curbweight        0.071962  -0.227691   0.776386   0.877728  0.867032   \n",
      "enginesize       -0.033930  -0.105790   0.569329   0.683360  0.735433   \n",
      "boreratio         0.260064  -0.130051   0.488750   0.606454  0.559150   \n",
      "stroke           -0.160824  -0.008735   0.160959   0.129533  0.182942   \n",
      "compressionratio  0.150276  -0.178515   0.249786   0.158414  0.181129   \n",
      "horsepower       -0.015006   0.070873   0.353294   0.552623  0.640732   \n",
      "peakrpm          -0.203789   0.273606  -0.360469  -0.287242 -0.220012   \n",
      "citympg           0.015940  -0.035823  -0.470414  -0.670909 -0.642704   \n",
      "highwaympg        0.011255   0.034606  -0.544082  -0.704662 -0.677218   \n",
      "price            -0.109093  -0.079978   0.577816   0.682920  0.759325   \n",
      "\n",
      "                  carheight  curbweight  enginesize  boreratio    stroke  \\\n",
      "car_ID             0.255960    0.071962   -0.033930   0.260064 -0.160824   \n",
      "symboling         -0.541038   -0.227691   -0.105790  -0.130051 -0.008735   \n",
      "wheelbase          0.589435    0.776386    0.569329   0.488750  0.160959   \n",
      "carlength          0.491029    0.877728    0.683360   0.606454  0.129533   \n",
      "carwidth           0.279210    0.867032    0.735433   0.559150  0.182942   \n",
      "carheight          1.000000    0.295572    0.067149   0.171071 -0.055307   \n",
      "curbweight         0.295572    1.000000    0.850594   0.648480  0.168790   \n",
      "enginesize         0.067149    0.850594    1.000000   0.583774  0.203129   \n",
      "boreratio          0.171071    0.648480    0.583774   1.000000 -0.055909   \n",
      "stroke            -0.055307    0.168790    0.203129  -0.055909  1.000000   \n",
      "compressionratio   0.261214    0.151362    0.028971   0.005197  0.186110   \n",
      "horsepower        -0.108802    0.750739    0.809769   0.573677  0.080940   \n",
      "peakrpm           -0.320411   -0.266243   -0.244660  -0.254976 -0.067964   \n",
      "citympg           -0.048640   -0.757414   -0.653658  -0.584532 -0.042145   \n",
      "highwaympg        -0.107358   -0.797465   -0.677470  -0.587012 -0.043931   \n",
      "price              0.119336    0.835305    0.874145   0.553173  0.079443   \n",
      "\n",
      "                  compressionratio  horsepower   peakrpm   citympg  \\\n",
      "car_ID                    0.150276   -0.015006 -0.203789  0.015940   \n",
      "symboling                -0.178515    0.070873  0.273606 -0.035823   \n",
      "wheelbase                 0.249786    0.353294 -0.360469 -0.470414   \n",
      "carlength                 0.158414    0.552623 -0.287242 -0.670909   \n",
      "carwidth                  0.181129    0.640732 -0.220012 -0.642704   \n",
      "carheight                 0.261214   -0.108802 -0.320411 -0.048640   \n",
      "curbweight                0.151362    0.750739 -0.266243 -0.757414   \n",
      "enginesize                0.028971    0.809769 -0.244660 -0.653658   \n",
      "boreratio                 0.005197    0.573677 -0.254976 -0.584532   \n",
      "stroke                    0.186110    0.080940 -0.067964 -0.042145   \n",
      "compressionratio          1.000000   -0.204326 -0.435741  0.324701   \n",
      "horsepower               -0.204326    1.000000  0.131073 -0.801456   \n",
      "peakrpm                  -0.435741    0.131073  1.000000 -0.113544   \n",
      "citympg                   0.324701   -0.801456 -0.113544  1.000000   \n",
      "highwaympg                0.265201   -0.770544 -0.054275  0.971337   \n",
      "price                     0.067984    0.808139 -0.085267 -0.685751   \n",
      "\n",
      "                  highwaympg     price  \n",
      "car_ID              0.011255 -0.109093  \n",
      "symboling           0.034606 -0.079978  \n",
      "wheelbase          -0.544082  0.577816  \n",
      "carlength          -0.704662  0.682920  \n",
      "carwidth           -0.677218  0.759325  \n",
      "carheight          -0.107358  0.119336  \n",
      "curbweight         -0.797465  0.835305  \n",
      "enginesize         -0.677470  0.874145  \n",
      "boreratio          -0.587012  0.553173  \n",
      "stroke             -0.043931  0.079443  \n",
      "compressionratio    0.265201  0.067984  \n",
      "horsepower         -0.770544  0.808139  \n",
      "peakrpm            -0.054275 -0.085267  \n",
      "citympg             0.971337 -0.685751  \n",
      "highwaympg          1.000000 -0.697599  \n",
      "price              -0.697599  1.000000  \n"
     ]
    }
   ],
   "source": [
    "print(data.corr())"
   ]
  },
  {
   "cell_type": "markdown",
   "id": "8fbd0328",
   "metadata": {},
   "source": [
    "**Training the model**"
   ]
  },
  {
   "cell_type": "code",
   "execution_count": 8,
   "id": "bb2d024f",
   "metadata": {},
   "outputs": [],
   "source": [
    "predict = \"price\"\n",
    "data = data[[\"symboling\", \"wheelbase\", \"carlength\", \n",
    "             \"carwidth\", \"carheight\", \"curbweight\", \n",
    "             \"enginesize\", \"boreratio\", \"stroke\", \n",
    "             \"compressionratio\", \"horsepower\", \"peakrpm\", \n",
    "             \"citympg\", \"highwaympg\", \"price\"]]"
   ]
  },
  {
   "cell_type": "code",
   "execution_count": 9,
   "id": "e710c80c",
   "metadata": {},
   "outputs": [],
   "source": [
    "x = np.array(data.drop(labels=[predict], axis=1))\n",
    "y = np.array(data[predict])"
   ]
  },
  {
   "cell_type": "code",
   "execution_count": 10,
   "id": "ea329123",
   "metadata": {},
   "outputs": [],
   "source": [
    "from sklearn.model_selection import train_test_split\n",
    "xtrain, xtest, ytrain, ytest = train_test_split(x, y, test_size=0.2)"
   ]
  },
  {
   "cell_type": "code",
   "execution_count": 11,
   "id": "9c1b65d2",
   "metadata": {},
   "outputs": [],
   "source": [
    "from sklearn.tree import DecisionTreeRegressor\n",
    "model = DecisionTreeRegressor()\n",
    "model.fit(xtrain, ytrain)\n",
    "predictions = model.predict(xtest)"
   ]
  },
  {
   "cell_type": "code",
   "execution_count": 12,
   "id": "8147739f",
   "metadata": {},
   "outputs": [
    {
     "data": {
      "text/plain": [
       "1.0"
      ]
     },
     "execution_count": 12,
     "metadata": {},
     "output_type": "execute_result"
    }
   ],
   "source": [
    "from sklearn.metrics import mean_absolute_error\n",
    "model.score(xtest, predictions)"
   ]
  },
  {
   "cell_type": "markdown",
   "id": "8bb880c7",
   "metadata": {},
   "source": [
    "# SUMMARY"
   ]
  },
  {
   "cell_type": "markdown",
   "id": "4e8f1334",
   "metadata": {},
   "source": [
    "**In this project we have trained a machine learning model for car price prediction with an acuuracy of 100%**"
   ]
  }
 ],
 "metadata": {
  "kernelspec": {
   "display_name": "Python 3 (ipykernel)",
   "language": "python",
   "name": "python3"
  },
  "language_info": {
   "codemirror_mode": {
    "name": "ipython",
    "version": 3
   },
   "file_extension": ".py",
   "mimetype": "text/x-python",
   "name": "python",
   "nbconvert_exporter": "python",
   "pygments_lexer": "ipython3",
   "version": "3.9.7"
  }
 },
 "nbformat": 4,
 "nbformat_minor": 5
}
